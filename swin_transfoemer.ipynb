{
  "nbformat": 4,
  "nbformat_minor": 0,
  "metadata": {
    "colab": {
      "name": "swin_transfoemer.ipynb",
      "provenance": [],
      "authorship_tag": "ABX9TyNH74KsDq7LqnmWVVGyzYLI",
      "include_colab_link": true
    },
    "kernelspec": {
      "name": "python3",
      "display_name": "Python 3"
    },
    "language_info": {
      "name": "python"
    },
    "accelerator": "GPU",
    "gpuClass": "standard"
  },
  "cells": [
    {
      "cell_type": "markdown",
      "metadata": {
        "id": "view-in-github",
        "colab_type": "text"
      },
      "source": [
        "<a href=\"https://colab.research.google.com/github/RodrigoGantier/swin_transformer/blob/main/swin_transfoemer.ipynb\" target=\"_parent\"><img src=\"https://colab.research.google.com/assets/colab-badge.svg\" alt=\"Open In Colab\"/></a>"
      ]
    },
    {
      "cell_type": "markdown",
      "source": [
        "\n",
        "\n",
        "```\n",
        "# This is formatted as code\n",
        "```\n",
        "\n",
        "**Some dependencies**\n",
        "\n",
        "We need to install some dependencies and the code from github"
      ],
      "metadata": {
        "id": "W0Xi9jlOxKqk"
      }
    },
    {
      "cell_type": "code",
      "execution_count": 3,
      "metadata": {
        "colab": {
          "base_uri": "https://localhost:8080/"
        },
        "id": "SJczxeQptClw",
        "outputId": "c8d3925f-78ab-4dbf-c58e-797179cc4652"
      },
      "outputs": [
        {
          "output_type": "stream",
          "name": "stdout",
          "text": [
            "fatal: destination path 'swin_transformer' already exists and is not an empty directory.\n",
            "Found existing installation: tutel 0.1\n",
            "Uninstalling tutel-0.1:\n",
            "  Successfully uninstalled tutel-0.1\n",
            "Looking in indexes: https://pypi.org/simple, https://us-python.pkg.dev/colab-wheels/public/simple/\n",
            "Collecting git+https://github.com/microsoft/tutel@main\n",
            "  Cloning https://github.com/microsoft/tutel (to revision main) to /tmp/pip-req-build-hcji6hr4\n",
            "  Running command git clone -q https://github.com/microsoft/tutel /tmp/pip-req-build-hcji6hr4\n",
            "Building wheels for collected packages: tutel\n",
            "  Building wheel for tutel (setup.py) ... \u001b[?25l\u001b[?25hdone\n",
            "  Created wheel for tutel: filename=tutel-0.1-cp37-cp37m-linux_x86_64.whl size=3051664 sha256=4ef710d16e066f840fe4ba00847e4578abf545dfd892c198679dc8d54ec3a866\n",
            "  Stored in directory: /tmp/pip-ephem-wheel-cache-i8h3nwd3/wheels/b0/07/20/2eeb42d275378c3c3ae40e7762ad650974036b038d5ae42d60\n",
            "Successfully built tutel\n",
            "Installing collected packages: tutel\n",
            "Successfully installed tutel-0.1\n",
            "Looking in indexes: https://pypi.org/simple, https://us-python.pkg.dev/colab-wheels/public/simple/\n",
            "Collecting timm\n",
            "  Downloading timm-0.5.4-py3-none-any.whl (431 kB)\n",
            "\u001b[K     |████████████████████████████████| 431 kB 4.9 MB/s \n",
            "\u001b[?25hRequirement already satisfied: torch>=1.4 in /usr/local/lib/python3.7/dist-packages (from timm) (1.11.0+cu113)\n",
            "Requirement already satisfied: torchvision in /usr/local/lib/python3.7/dist-packages (from timm) (0.12.0+cu113)\n",
            "Requirement already satisfied: typing-extensions in /usr/local/lib/python3.7/dist-packages (from torch>=1.4->timm) (4.1.1)\n",
            "Requirement already satisfied: requests in /usr/local/lib/python3.7/dist-packages (from torchvision->timm) (2.23.0)\n",
            "Requirement already satisfied: numpy in /usr/local/lib/python3.7/dist-packages (from torchvision->timm) (1.21.6)\n",
            "Requirement already satisfied: pillow!=8.3.*,>=5.3.0 in /usr/local/lib/python3.7/dist-packages (from torchvision->timm) (7.1.2)\n",
            "Requirement already satisfied: certifi>=2017.4.17 in /usr/local/lib/python3.7/dist-packages (from requests->torchvision->timm) (2022.6.15)\n",
            "Requirement already satisfied: urllib3!=1.25.0,!=1.25.1,<1.26,>=1.21.1 in /usr/local/lib/python3.7/dist-packages (from requests->torchvision->timm) (1.24.3)\n",
            "Requirement already satisfied: chardet<4,>=3.0.2 in /usr/local/lib/python3.7/dist-packages (from requests->torchvision->timm) (3.0.4)\n",
            "Requirement already satisfied: idna<3,>=2.5 in /usr/local/lib/python3.7/dist-packages (from requests->torchvision->timm) (2.10)\n",
            "Installing collected packages: timm\n",
            "Successfully installed timm-0.5.4\n"
          ]
        }
      ],
      "source": [
        "!git clone https://github.com/RodrigoGantier/swin_transformer.git\n",
        "!python3 -m pip uninstall tutel -y\n",
        "!python3 -m pip install --user --upgrade git+https://github.com/microsoft/tutel@main\n",
        "!pip3 install timm"
      ]
    },
    {
      "cell_type": "markdown",
      "source": [
        "**Some functions to load the model and process**"
      ],
      "metadata": {
        "id": "ptPti0AMxfEg"
      }
    },
    {
      "cell_type": "code",
      "source": [
        "import os\n",
        "import PIL\n",
        "import argparse\n",
        "import torchvision.transforms as T\n",
        "from swin_transformer.models.swin_transfoemer_ import swin_tiny_patch4_window7_224\n",
        "\n",
        "def load_model():\n",
        "   model = swin_tiny_patch4_window7_224(pretrained=True)\n",
        "   model.eval()\n",
        "   model.to('cuda:0')\n",
        "\n",
        "   return model\n",
        "\n",
        "labels = '/content/swin_transformer/ilsvrc2012_wordnet_lemmas.txt'\n",
        "data_path = '/content/swin_transformer/images'\n",
        "imagenet_labels = dict(enumerate(open(labels)))\n",
        "imgs_list = [data_path + '/' + im.name for im in os.scandir(data_path) if im.name.endswith('jpg')] \n",
        "imgs_list.sort()\n",
        "\n",
        "IMG_SIZE = (224, 224)\n",
        "NORMALIZE_MEAN = (0.485, 0.456, 0.406)\n",
        "NORMALIZE_STD = (0.229, 0.224, 0.225)\n",
        "transforms = [\n",
        "            T.Resize(IMG_SIZE),\n",
        "            T.ToTensor(),\n",
        "            T.Normalize(NORMALIZE_MEAN, NORMALIZE_STD),\n",
        "            ]\n",
        "transforms = T.Compose(transforms)\n",
        "\n",
        "model = load_model()"
      ],
      "metadata": {
        "colab": {
          "base_uri": "https://localhost:8080/"
        },
        "id": "j2LShaJ-tPLq",
        "outputId": "f71db3e0-7a99-426e-8619-fc65a4d5c29b"
      },
      "execution_count": 4,
      "outputs": [
        {
          "output_type": "stream",
          "name": "stderr",
          "text": [
            "/usr/local/lib/python3.7/dist-packages/torch/functional.py:568: UserWarning: torch.meshgrid: in an upcoming release, it will be required to pass the indexing argument. (Triggered internally at  ../aten/src/ATen/native/TensorShape.cpp:2228.)\n",
            "  return _VF.meshgrid(tensors, **kwargs)  # type: ignore[attr-defined]\n",
            "Downloading: \"https://github.com/SwinTransformer/storage/releases/download/v1.0.0/swin_tiny_patch4_window7_224.pth\" to /root/.cache/torch/hub/checkpoints/swin_tiny_patch4_window7_224.pth\n"
          ]
        }
      ]
    },
    {
      "cell_type": "markdown",
      "source": [
        "**The inference loop**"
      ],
      "metadata": {
        "id": "FS_UMPVQxo0_"
      }
    },
    {
      "cell_type": "code",
      "source": [
        "for img_name in imgs_list:\n",
        "\n",
        "  img = PIL.Image.open(img_name).convert('RGB')\n",
        "  img_tensor = transforms(img).unsqueeze(0).to('cuda:0')\n",
        "\n",
        "  output = model(img_tensor)\n",
        "\n",
        "  _, pred = output.topk(5, 1, True, True)\n",
        "\n",
        "  print(\"-\"*20)\n",
        "  print(\"Inference Result: \\n\")\n",
        "  for i in range(5):\n",
        "      print(imagenet_labels[int(pred[0, i])])"
      ],
      "metadata": {
        "colab": {
          "base_uri": "https://localhost:8080/"
        },
        "id": "aq1qNgaGtiYX",
        "outputId": "dfaf5760-1d78-492c-cd2e-c0d652ad8e2a"
      },
      "execution_count": 5,
      "outputs": [
        {
          "output_type": "stream",
          "name": "stdout",
          "text": [
            "--------------------\n",
            "Inference Result: \n",
            "\n",
            "tench, Tinca_tinca\n",
            "\n",
            "barracouta, snoek\n",
            "\n",
            "eel\n",
            "\n",
            "goldfish, Carassius_auratus\n",
            "\n",
            "terrapin\n",
            "\n",
            "--------------------\n",
            "Inference Result: \n",
            "\n",
            "tench, Tinca_tinca\n",
            "\n",
            "barracouta, snoek\n",
            "\n",
            "eel\n",
            "\n",
            "terrapin\n",
            "\n",
            "prayer_rug, prayer_mat\n",
            "\n",
            "--------------------\n",
            "Inference Result: \n",
            "\n",
            "goldfish, Carassius_auratus\n",
            "\n",
            "rock_beauty, Holocanthus_tricolor\n",
            "\n",
            "coral_reef\n",
            "\n",
            "anemone_fish\n",
            "\n",
            "tench, Tinca_tinca\n",
            "\n",
            "--------------------\n",
            "Inference Result: \n",
            "\n",
            "goldfish, Carassius_auratus\n",
            "\n",
            "tench, Tinca_tinca\n",
            "\n",
            "rock_beauty, Holocanthus_tricolor\n",
            "\n",
            "shower_curtain\n",
            "\n",
            "coral_reef\n",
            "\n",
            "--------------------\n",
            "Inference Result: \n",
            "\n",
            "pencil_box, pencil_case\n",
            "\n",
            "Band_Aid\n",
            "\n",
            "toilet_seat\n",
            "\n",
            "rubber_eraser, rubber, pencil_eraser\n",
            "\n",
            "bib\n",
            "\n",
            "--------------------\n",
            "Inference Result: \n",
            "\n",
            "racer, race_car, racing_car\n",
            "\n",
            "crash_helmet\n",
            "\n",
            "neck_brace\n",
            "\n",
            "packet\n",
            "\n",
            "speedboat\n",
            "\n",
            "--------------------\n",
            "Inference Result: \n",
            "\n",
            "flagpole, flagstaff\n",
            "\n",
            "parachute, chute\n",
            "\n",
            "ski\n",
            "\n",
            "airship, dirigible\n",
            "\n",
            "warplane, military_plane\n",
            "\n",
            "--------------------\n",
            "Inference Result: \n",
            "\n",
            "mask\n",
            "\n",
            "birdhouse\n",
            "\n",
            "totem_pole\n",
            "\n",
            "clog, geta, patten, sabot\n",
            "\n",
            "toilet_seat\n",
            "\n",
            "--------------------\n",
            "Inference Result: \n",
            "\n",
            "maze, labyrinth\n",
            "\n",
            "manhole_cover\n",
            "\n",
            "prayer_rug, prayer_mat\n",
            "\n",
            "planetarium\n",
            "\n",
            "plate_rack\n",
            "\n"
          ]
        }
      ]
    }
  ]
}