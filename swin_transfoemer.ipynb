{
  "nbformat": 4,
  "nbformat_minor": 0,
  "metadata": {
    "colab": {
      "name": "swin_transfoemer.ipynb",
      "provenance": [],
      "authorship_tag": "ABX9TyOCnHSNA4Zr26UO/4ZhufHs",
      "include_colab_link": true
    },
    "kernelspec": {
      "name": "python3",
      "display_name": "Python 3"
    },
    "language_info": {
      "name": "python"
    },
    "accelerator": "GPU",
    "gpuClass": "standard"
  },
  "cells": [
    {
      "cell_type": "markdown",
      "metadata": {
        "id": "view-in-github",
        "colab_type": "text"
      },
      "source": [
        "<a href=\"https://colab.research.google.com/github/RodrigoGantier/swin_transformer/blob/main/swin_transfoemer.ipynb\" target=\"_parent\"><img src=\"https://colab.research.google.com/assets/colab-badge.svg\" alt=\"Open In Colab\"/></a>"
      ]
    },
    {
      "cell_type": "markdown",
      "source": [
        "**Some dependencies**\n",
        "And the code"
      ],
      "metadata": {
        "id": "W0Xi9jlOxKqk"
      }
    },
    {
      "cell_type": "code",
      "execution_count": 8,
      "metadata": {
        "colab": {
          "base_uri": "https://localhost:8080/"
        },
        "id": "SJczxeQptClw",
        "outputId": "c80e4046-cd3f-4229-8434-c29e63aa0b86"
      },
      "outputs": [
        {
          "output_type": "stream",
          "name": "stdout",
          "text": [
            "fatal: destination path 'swin_transformer' already exists and is not an empty directory.\n",
            "\u001b[33mWARNING: Skipping tutel as it is not installed.\u001b[0m\n",
            "Looking in indexes: https://pypi.org/simple, https://us-python.pkg.dev/colab-wheels/public/simple/\n",
            "Collecting git+https://github.com/microsoft/tutel@main\n",
            "  Cloning https://github.com/microsoft/tutel (to revision main) to /tmp/pip-req-build-rnqcdh6u\n",
            "  Running command git clone -q https://github.com/microsoft/tutel /tmp/pip-req-build-rnqcdh6u\n",
            "Building wheels for collected packages: tutel\n",
            "  Building wheel for tutel (setup.py) ... \u001b[?25l\u001b[?25hdone\n",
            "  Created wheel for tutel: filename=tutel-0.1-cp37-cp37m-linux_x86_64.whl size=3051695 sha256=451128c545cb8253bd48ddaefcc325060a94d0ff37d3cc1181f729176557d8fc\n",
            "  Stored in directory: /tmp/pip-ephem-wheel-cache-al_jzwle/wheels/b0/07/20/2eeb42d275378c3c3ae40e7762ad650974036b038d5ae42d60\n",
            "Successfully built tutel\n",
            "Installing collected packages: tutel\n",
            "Successfully installed tutel-0.1\n"
          ]
        }
      ],
      "source": [
        "!git clone https://github.com/RodrigoGantier/swin_transformer.git\n",
        "!python3 -m pip uninstall tutel -y\n",
        "!python3 -m pip install --user --upgrade git+https://github.com/microsoft/tutel@main"
      ]
    },
    {
      "cell_type": "markdown",
      "source": [
        "**Some functions to load the model and process**"
      ],
      "metadata": {
        "id": "ptPti0AMxfEg"
      }
    },
    {
      "cell_type": "code",
      "source": [
        "import os\n",
        "import PIL\n",
        "import argparse\n",
        "import torchvision.transforms as T\n",
        "from swin_transformer.models.swin_transfoemer_ import swin_base_patch4_window7_224\n",
        "\n",
        "def load_model():\n",
        "   model = swin_base_patch4_window7_224(pretrained=True)\n",
        "   model.eval()\n",
        "   model.to('cuda:0')\n",
        "\n",
        "   return model\n",
        "\n",
        "labels = '/content/swin_transformer/ilsvrc2012_wordnet_lemmas.txt'\n",
        "data_path = '/content/swin_transformer/images'\n",
        "imagenet_labels = dict(enumerate(open(labels)))\n",
        "imgs_list = [data_path + '/' + im.name for im in os.scandir(data_path) if im.name.endswith('jpg')] \n",
        "imgs_list.sort()\n",
        "\n",
        "IMG_SIZE = (224, 224)\n",
        "NORMALIZE_MEAN = (0.485, 0.456, 0.406)\n",
        "NORMALIZE_STD = (0.229, 0.224, 0.225)\n",
        "transforms = [\n",
        "            T.Resize(IMG_SIZE),\n",
        "            T.ToTensor(),\n",
        "            T.Normalize(NORMALIZE_MEAN, NORMALIZE_STD),\n",
        "            ]\n",
        "transforms = T.Compose(transforms)\n",
        "\n",
        "model = load_model()"
      ],
      "metadata": {
        "colab": {
          "base_uri": "https://localhost:8080/"
        },
        "id": "j2LShaJ-tPLq",
        "outputId": "e1e37c29-4811-416d-a49a-4e4798866bdf"
      },
      "execution_count": 20,
      "outputs": [
        {
          "output_type": "stream",
          "name": "stderr",
          "text": [
            "/usr/local/lib/python3.7/dist-packages/torch/functional.py:568: UserWarning: torch.meshgrid: in an upcoming release, it will be required to pass the indexing argument. (Triggered internally at  ../aten/src/ATen/native/TensorShape.cpp:2228.)\n",
            "  return _VF.meshgrid(tensors, **kwargs)  # type: ignore[attr-defined]\n",
            "Downloading: \"https://github.com/SwinTransformer/storage/releases/download/v1.0.0/swin_base_patch4_window7_224_22kto1k.pth\" to /root/.cache/torch/hub/checkpoints/swin_base_patch4_window7_224_22kto1k.pth\n"
          ]
        }
      ]
    },
    {
      "cell_type": "markdown",
      "source": [
        "**The inference loop**"
      ],
      "metadata": {
        "id": "FS_UMPVQxo0_"
      }
    },
    {
      "cell_type": "code",
      "source": [
        "for img_name in imgs_list:\n",
        "\n",
        "  img = PIL.Image.open(img_name).convert('RGB')\n",
        "  img_tensor = transforms(img).unsqueeze(0).to('cuda:0')\n",
        "\n",
        "  output = model(img_tensor)\n",
        "\n",
        "  _, pred = output.topk(5, 1, True, True)\n",
        "\n",
        "  print(\"-\"*20)\n",
        "  print(\"Inference Result: \\n\")\n",
        "  for i in range(5):\n",
        "      print(imagenet_labels[int(pred[0, i])])"
      ],
      "metadata": {
        "colab": {
          "base_uri": "https://localhost:8080/"
        },
        "id": "aq1qNgaGtiYX",
        "outputId": "f3474829-f849-4f9e-e200-a2115f723f0c"
      },
      "execution_count": 22,
      "outputs": [
        {
          "output_type": "stream",
          "name": "stdout",
          "text": [
            "--------------------\n",
            "Inference Result: \n",
            "\n",
            "tench, Tinca_tinca\n",
            "\n",
            "barracouta, snoek\n",
            "\n",
            "goldfish, Carassius_auratus\n",
            "\n",
            "rock_beauty, Holocanthus_tricolor\n",
            "\n",
            "eel\n",
            "\n",
            "--------------------\n",
            "Inference Result: \n",
            "\n",
            "tench, Tinca_tinca\n",
            "\n",
            "barracouta, snoek\n",
            "\n",
            "goldfish, Carassius_auratus\n",
            "\n",
            "eel\n",
            "\n",
            "coho, cohoe, coho_salmon, blue_jack, silver_salmon, Oncorhynchus_kisutch\n",
            "\n",
            "--------------------\n",
            "Inference Result: \n",
            "\n",
            "goldfish, Carassius_auratus\n",
            "\n",
            "rock_beauty, Holocanthus_tricolor\n",
            "\n",
            "anemone_fish\n",
            "\n",
            "tench, Tinca_tinca\n",
            "\n",
            "coral_reef\n",
            "\n",
            "--------------------\n",
            "Inference Result: \n",
            "\n",
            "goldfish, Carassius_auratus\n",
            "\n",
            "tench, Tinca_tinca\n",
            "\n",
            "rock_beauty, Holocanthus_tricolor\n",
            "\n",
            "tabby, tabby_cat\n",
            "\n",
            "dragonfly, darning_needle, devil's_darning_needle, sewing_needle, snake_feeder, snake_doctor, mosquito_hawk, skeeter_hawk\n",
            "\n",
            "--------------------\n",
            "Inference Result: \n",
            "\n",
            "Band_Aid\n",
            "\n",
            "nipple\n",
            "\n",
            "paper_towel\n",
            "\n",
            "toilet_tissue, toilet_paper, bathroom_tissue\n",
            "\n",
            "bib\n",
            "\n",
            "--------------------\n",
            "Inference Result: \n",
            "\n",
            "racer, race_car, racing_car\n",
            "\n",
            "bobsled, bobsleigh, bob\n",
            "\n",
            "speedboat\n",
            "\n",
            "crash_helmet\n",
            "\n",
            "packet\n",
            "\n",
            "--------------------\n",
            "Inference Result: \n",
            "\n",
            "flagpole, flagstaff\n",
            "\n",
            "parachute, chute\n",
            "\n",
            "ski\n",
            "\n",
            "pole\n",
            "\n",
            "seashore, coast, seacoast, sea-coast\n",
            "\n",
            "--------------------\n",
            "Inference Result: \n",
            "\n",
            "mask\n",
            "\n",
            "ski_mask\n",
            "\n",
            "crash_helmet\n",
            "\n",
            "gasmask, respirator, gas_helmet\n",
            "\n",
            "totem_pole\n",
            "\n",
            "--------------------\n",
            "Inference Result: \n",
            "\n",
            "maze, labyrinth\n",
            "\n",
            "brain_coral\n",
            "\n",
            "honeycomb\n",
            "\n",
            "manhole_cover\n",
            "\n",
            "prayer_rug, prayer_mat\n",
            "\n"
          ]
        }
      ]
    }
  ]
}